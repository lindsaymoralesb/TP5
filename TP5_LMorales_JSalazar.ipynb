{
 "cells": [
  {
   "cell_type": "markdown",
   "metadata": {
    "colab_type": "text",
    "id": "Y5zYLAE8LTvr"
   },
   "source": [
    "**Instituto Tecnológico de Costa Rica**\n",
    "\n",
    "**Escuela de Ingeniería en Computación**\n",
    "\n",
    "**Curso: Inteligencia Artificial**\n",
    "\n",
    "**Segundo Semestre 2021**\n",
    "\n",
    "**Profesor: Luis-Alexander Calvo-Valverde**\n",
    "\n",
    "**Trabajo Práctico:** 05\n",
    "\n",
    "**Datos de la entrega:** Domingo 14 de noviembre 2021, a más tardar a las 11:59 pm\n",
    "\n",
    "**Estudiantes:**\n",
    "- Lindsay Morales Bonilla, 2018077301\n",
    "- Jose Pablo Salazar Granados, 2018107213\n",
    "\n",
    "\n",
    "\n"
   ]
  },
  {
   "cell_type": "markdown",
   "metadata": {},
   "source": [
    "___\n",
    "\n",
    "# Parte 1  (50 puntos)\n",
    "___"
   ]
  },
  {
   "cell_type": "markdown",
   "metadata": {},
   "source": [
    "1. Estudie el cuaderno con nombre: \"Selección de hiperparámetros con Keras Tuner\"\n",
    "1. A partir del ejenplo anterior, modifique el cuaderno con nombre \"Selección de hiperparámetros y clasificación de texto\" y complete lo que se le pide en este segundo cuaderno. \n"
   ]
  },
  {
   "cell_type": "markdown",
   "metadata": {},
   "source": [
    "___\n",
    "\n",
    "# Parte 2    (50 puntos)\n",
    "___"
   ]
  },
  {
   "cell_type": "markdown",
   "metadata": {},
   "source": [
    "1. Estudie **una** de estas dos herramientas\n",
    "    1. https://www.wandb.com/\n",
    "    1. https://www.comet.ml/site/\n",
    "1. Estudie el cuaderno \"Clasificación de texto con RMSprop\"\n",
    "1. A partir del cuaderno anterior, genere un nuevo cuaderno llamado \"Clasificación de texto con RMSprop_NUEVO\" en que utiliza la herramienta seleccionada en (1) para dar tracking a los resultados.\n",
    "1. En su cuaderno generado, agregue de última una celda de texto donde comenta los gráficos y resultados obtenidos al utilizar la herramienta seleccionada."
   ]
  },
  {
   "cell_type": "code",
   "execution_count": null,
   "metadata": {},
   "outputs": [],
   "source": []
  }
 ],
 "metadata": {
  "colab": {
   "collapsed_sections": [],
   "name": "Evaluación_01.ipynb",
   "provenance": []
  },
  "kernelspec": {
   "display_name": "Python 3",
   "language": "python",
   "name": "python3"
  },
  "language_info": {
   "codemirror_mode": {
    "name": "ipython",
    "version": 3
   },
   "file_extension": ".py",
   "mimetype": "text/x-python",
   "name": "python",
   "nbconvert_exporter": "python",
   "pygments_lexer": "ipython3",
   "version": "3.8.8"
  }
 },
 "nbformat": 4,
 "nbformat_minor": 1
}
