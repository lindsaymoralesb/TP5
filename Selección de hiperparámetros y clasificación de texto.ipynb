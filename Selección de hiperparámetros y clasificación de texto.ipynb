{
 "cells": [
  {
   "cell_type": "markdown",
   "metadata": {},
   "source": [
    "# Keras Tuner: Reuters Dataset\n",
    "\n",
    "Código base: Santiago Hernández"
   ]
  },
  {
   "cell_type": "markdown",
   "metadata": {},
   "source": [
    "## Conjunto de datos"
   ]
  },
  {
   "cell_type": "markdown",
   "metadata": {},
   "source": [
    "Este es un conjunto de datos de 11.228 noticias de Reuters, etiquetadas en 46 temas.\n",
    "\n",
    "Esto fue originalmente generado por el análisis y preprocesamiento del clásico conjunto de datos de Reuters-21578, pero el código de preprocesamiento ya no está empaquetado con Keras. \n",
    "\n",
    "Cada noticia está codificado como una lista de índices de palabras (números enteros). Para mayor comodidad, las palabras se indexan por la frecuencia general en el conjunto de datos, de modo que, por ejemplo, el número entero \"3\" codifica la tercera palabra más frecuente en los datos. Esto permite realizar operaciones de filtrado rápido como: \"considerar sólo las 10.000 palabras más comunes, pero eliminar las 20 palabras más comunes\"."
   ]
  },
  {
   "cell_type": "markdown",
   "metadata": {},
   "source": [
    "## 1. Cargando el conjunto de datos"
   ]
  },
  {
   "cell_type": "code",
   "execution_count": 2,
   "metadata": {},
   "outputs": [],
   "source": [
    "from tensorflow.keras.datasets import reuters"
   ]
  },
  {
   "cell_type": "code",
   "execution_count": 3,
   "metadata": {},
   "outputs": [
    {
     "name": "stdout",
     "output_type": "stream",
     "text": [
      "Downloading data from https://storage.googleapis.com/tensorflow/tf-keras-datasets/reuters.npz\n",
      "2113536/2110848 [==============================] - 1s 0us/step\n",
      "2121728/2110848 [==============================] - 1s 0us/step\n"
     ]
    }
   ],
   "source": [
    "(train_data, train_labels), (test_data, test_labels) = reuters.load_data(num_words=10000)"
   ]
  },
  {
   "cell_type": "markdown",
   "metadata": {},
   "source": [
    "## Preprocesamiento del conjunto de datos"
   ]
  },
  {
   "cell_type": "markdown",
   "metadata": {},
   "source": [
    "A pesar de que ya tenemos codificadas las reseñas para que esten representadas por valores numéricos en lugar de por cadenas de texto, existen algunos factores que no permiten que sean conjuntos de datos apropiados para proporcionarle a una red neuronal artifical."
   ]
  },
  {
   "cell_type": "code",
   "execution_count": 4,
   "metadata": {},
   "outputs": [],
   "source": [
    "import numpy as np\n",
    "\n",
    "def vectorize(seqs, dim=10000):\n",
    "    results = np.zeros((len(seqs), dim))\n",
    "    for i, seq in enumerate(seqs):\n",
    "        results[i, seq] = 1.\n",
    "    return results"
   ]
  },
  {
   "cell_type": "markdown",
   "metadata": {},
   "source": [
    "Vectorizamos tanto el conjunto de datos de entrenamiento, como el conjunto de datos de pruebas."
   ]
  },
  {
   "cell_type": "code",
   "execution_count": 5,
   "metadata": {},
   "outputs": [],
   "source": [
    "# Vectorizamos el conjunto de datos de entrenamiento y el de pruebas\n",
    "X_train = vectorize(train_data, 10000)\n",
    "X_test = vectorize(test_data, 10000)"
   ]
  },
  {
   "cell_type": "code",
   "execution_count": 6,
   "metadata": {},
   "outputs": [
    {
     "name": "stdout",
     "output_type": "stream",
     "text": [
      "Valores originales:\t [1, 2, 2, 8, 43, 10, 447, 5, 25, 207, 270, 5, 3095, 111, 16]\n",
      "Valores vectorizados:\t [0. 1. 1. 0. 1. 1. 1. 1. 1. 1. 1. 1. 1. 0. 0.]\n"
     ]
    }
   ],
   "source": [
    "# Cada una de las reseñas se corresponde con un vector formado por 1s y 0s\n",
    "print(\"Valores originales:\\t\", train_data[0][:15])\n",
    "print(\"Valores vectorizados:\\t\", X_train[0][:15])"
   ]
  },
  {
   "cell_type": "code",
   "execution_count": 7,
   "metadata": {},
   "outputs": [],
   "source": [
    "# Transformamos las etiquetas de salida en vectores\n",
    "from tensorflow.keras.utils import to_categorical\n",
    "\n",
    "Y_train = to_categorical(train_labels)\n",
    "Y_test = to_categorical(test_labels)"
   ]
  },
  {
   "cell_type": "markdown",
   "metadata": {},
   "source": [
    "## División del conjunto de datos "
   ]
  },
  {
   "cell_type": "code",
   "execution_count": 8,
   "metadata": {},
   "outputs": [],
   "source": [
    "from sklearn.model_selection import train_test_split\n",
    "\n",
    "X_test, X_val, Y_test, Y_val = train_test_split(X_test, Y_test, test_size=0.5)"
   ]
  },
  {
   "cell_type": "code",
   "execution_count": 9,
   "metadata": {},
   "outputs": [
    {
     "name": "stdout",
     "output_type": "stream",
     "text": [
      "Longitud subconjunto de entrenamiento:  8982\n",
      "Longitud subconjunto de validación:  1123\n",
      "Longitud subconjunto de pruebas:  1123\n"
     ]
    }
   ],
   "source": [
    "print(\"Longitud subconjunto de entrenamiento: \", len(X_train))\n",
    "print(\"Longitud subconjunto de validación: \", len(X_val))\n",
    "print(\"Longitud subconjunto de pruebas: \", len(X_test))"
   ]
  },
  {
   "cell_type": "markdown",
   "metadata": {},
   "source": [
    "## Construcción de la red neuronal artificial"
   ]
  },
  {
   "cell_type": "markdown",
   "metadata": {},
   "source": [
    "### Función para la realización del tuning"
   ]
  },
  {
   "cell_type": "code",
   "execution_count": 12,
   "metadata": {},
   "outputs": [],
   "source": [
    "from tensorflow import keras\n",
    "from tensorflow.keras import models\n",
    "from tensorflow.keras import layers\n",
    "import keras_tuner as kt"
   ]
  },
  {
   "cell_type": "markdown",
   "metadata": {},
   "source": [
    "# TP5 - En la siguiente celda complete según se le indica en comentarios"
   ]
  },
  {
   "cell_type": "code",
   "execution_count": 15,
   "metadata": {},
   "outputs": [],
   "source": [
    "def model_builder(hp):\n",
    "    \n",
    "    # Defina un modello secuencial\n",
    "    # COMPLETAR\n",
    "    \n",
    "    model = keras.Sequential()\n",
    "    \n",
    "    # Tuning del número de neuronas de las hidden layer\n",
    "    # Entre 16 y 128, en steps de 16\n",
    "    # COMPLETAR\n",
    " \n",
    "    hp_units = hp.Int('units', min_value = 16, max_value = 128, step = 16) \n",
    "\n",
    "    # Tuning del número de capas\n",
    "    # Entre 1 y 5, con steps de 2\n",
    "    # COMPLETAR\n",
    "    \n",
    "    hp_layers = hp.Int('layers', min_value = 1, max_value = 5, step = 2)\n",
    "    \n",
    "    # Input layer\n",
    "    model.add(layers.Dense(units=128, activation='relu', input_shape=(10000,)))\n",
    "    \n",
    "    # Hidden layers \n",
    "    for i in range(hp_layers):\n",
    "        # Añadimos la hidden layer\n",
    "        model.add(layers.Dense(units=hp_units, activation='relu'))\n",
    "        \n",
    "    # Output layer\n",
    "    model.add(layers.Dense(46, activation='softmax'))\n",
    "    \n",
    "    # Varios learning rate, valores [0.01, 0.001, 0.0001]\n",
    "    # COMPLETAR\n",
    "    hp_learning_rate = hp.Choice('learning_rate', values=[1e-2, 1e-3, 1e-4])\n",
    "    \n",
    "    # Completar el model.compile\n",
    "    # el optimizador es keras.optimizers.Adam, variando los diferentes learning rate definidos\n",
    "    # de loss usar 'categorical_crossentropy'\n",
    "    # de métrica usar \"accuracy\"\n",
    "    # model.compile(\n",
    "        # COMPLETAR\n",
    "    # )\n",
    "    \n",
    "    model.compile(\n",
    "        optimizer=keras.optimizers.Adam(learning_rate = hp_learning_rate),\n",
    "        loss='categorical_crossentropy',\n",
    "        metrics=['accuracy']\n",
    "    )\n",
    "    \n",
    "    return model"
   ]
  },
  {
   "cell_type": "code",
   "execution_count": 16,
   "metadata": {},
   "outputs": [],
   "source": [
    "tuner = kt.Hyperband(\n",
    "    model_builder,\n",
    "    objective= 'val_accuracy',\n",
    "    max_epochs=10,\n",
    "    factor=3,\n",
    "    directory='hp_dir',\n",
    "    project_name='ruters_dataset'\n",
    ")"
   ]
  },
  {
   "cell_type": "code",
   "execution_count": 17,
   "metadata": {},
   "outputs": [],
   "source": [
    "# Creamos una función de callback que limpie el output\n",
    "import IPython\n",
    "import tensorflow as tf\n",
    "\n",
    "class ClearTrainingOutput(tf.keras.callbacks.Callback):\n",
    "    def on_train_end(*args, **kwargs):\n",
    "        IPython.display.clear_output(wait = True)"
   ]
  },
  {
   "cell_type": "code",
   "execution_count": 18,
   "metadata": {
    "scrolled": true
   },
   "outputs": [
    {
     "name": "stdout",
     "output_type": "stream",
     "text": [
      "Trial 30 Complete [00h 00m 15s]\n",
      "val_accuracy: 0.7845057845115662\n",
      "\n",
      "Best val_accuracy So Far: 0.8103294968605042\n",
      "Total elapsed time: 00h 03m 51s\n",
      "INFO:tensorflow:Oracle triggered exit\n"
     ]
    }
   ],
   "source": [
    "# Ejecución del proceso de tuning\n",
    "tuner.search(\n",
    "    X_train, \n",
    "    Y_train,\n",
    "    epochs=10,\n",
    "    validation_data=(X_val, Y_val),\n",
    "    callbacks=[ClearTrainingOutput()]\n",
    ")"
   ]
  },
  {
   "cell_type": "code",
   "execution_count": 19,
   "metadata": {},
   "outputs": [
    {
     "name": "stdout",
     "output_type": "stream",
     "text": [
      "Units: 80\n",
      "Layers: 1\n"
     ]
    }
   ],
   "source": [
    "# Obtención de los hiperparámetros óptimos\n",
    "best_hps = tuner.get_best_hyperparameters(num_trials=1)[0]\n",
    "\n",
    "print(\"Units:\", best_hps.get('units'))\n",
    "print(\"Layers:\", best_hps.get('layers'))"
   ]
  },
  {
   "cell_type": "code",
   "execution_count": 20,
   "metadata": {},
   "outputs": [
    {
     "name": "stdout",
     "output_type": "stream",
     "text": [
      "Epoch 1/20\n",
      "281/281 [==============================] - 2s 6ms/step - loss: 1.3574 - accuracy: 0.7116 - val_loss: 0.9425 - val_accuracy: 0.7818\n",
      "Epoch 2/20\n",
      "281/281 [==============================] - 2s 6ms/step - loss: 0.5032 - accuracy: 0.8891 - val_loss: 0.8972 - val_accuracy: 0.7934\n",
      "Epoch 3/20\n",
      "281/281 [==============================] - 2s 6ms/step - loss: 0.2749 - accuracy: 0.9377 - val_loss: 0.9313 - val_accuracy: 0.7996\n",
      "Epoch 4/20\n",
      "281/281 [==============================] - 2s 6ms/step - loss: 0.2032 - accuracy: 0.9482 - val_loss: 1.0255 - val_accuracy: 0.7925\n",
      "Epoch 5/20\n",
      "281/281 [==============================] - 2s 6ms/step - loss: 0.1760 - accuracy: 0.9496 - val_loss: 0.9932 - val_accuracy: 0.8085\n",
      "Epoch 6/20\n",
      "281/281 [==============================] - 2s 6ms/step - loss: 0.1579 - accuracy: 0.9500 - val_loss: 1.0043 - val_accuracy: 0.8041\n",
      "Epoch 7/20\n",
      "281/281 [==============================] - 2s 6ms/step - loss: 0.1423 - accuracy: 0.9512 - val_loss: 1.0252 - val_accuracy: 0.8085\n",
      "Epoch 8/20\n",
      "281/281 [==============================] - 1s 5ms/step - loss: 0.1323 - accuracy: 0.9534 - val_loss: 1.0250 - val_accuracy: 0.8023\n",
      "Epoch 9/20\n",
      "281/281 [==============================] - 2s 6ms/step - loss: 0.1284 - accuracy: 0.9513 - val_loss: 1.1165 - val_accuracy: 0.7952\n",
      "Epoch 10/20\n",
      "281/281 [==============================] - 2s 6ms/step - loss: 0.1221 - accuracy: 0.9512 - val_loss: 1.1489 - val_accuracy: 0.8014\n",
      "Epoch 11/20\n",
      "281/281 [==============================] - 2s 6ms/step - loss: 0.1137 - accuracy: 0.9526 - val_loss: 1.1654 - val_accuracy: 0.7925\n",
      "Epoch 12/20\n",
      "281/281 [==============================] - 2s 6ms/step - loss: 0.1079 - accuracy: 0.9522 - val_loss: 1.1776 - val_accuracy: 0.8068\n",
      "Epoch 13/20\n",
      "281/281 [==============================] - 2s 6ms/step - loss: 0.1018 - accuracy: 0.9538 - val_loss: 1.1852 - val_accuracy: 0.7996\n",
      "Epoch 14/20\n",
      "281/281 [==============================] - 2s 6ms/step - loss: 0.1008 - accuracy: 0.9525 - val_loss: 1.1865 - val_accuracy: 0.7952\n",
      "Epoch 15/20\n",
      "281/281 [==============================] - 2s 6ms/step - loss: 0.0941 - accuracy: 0.9551 - val_loss: 1.2486 - val_accuracy: 0.8014\n",
      "Epoch 16/20\n",
      "281/281 [==============================] - 2s 5ms/step - loss: 0.0914 - accuracy: 0.9537 - val_loss: 1.3007 - val_accuracy: 0.7952\n",
      "Epoch 17/20\n",
      "281/281 [==============================] - 2s 6ms/step - loss: 0.0905 - accuracy: 0.9549 - val_loss: 1.3313 - val_accuracy: 0.7952\n",
      "Epoch 18/20\n",
      "281/281 [==============================] - 2s 6ms/step - loss: 0.0894 - accuracy: 0.9529 - val_loss: 1.4198 - val_accuracy: 0.7943\n",
      "Epoch 19/20\n",
      "281/281 [==============================] - 2s 6ms/step - loss: 0.0858 - accuracy: 0.9535 - val_loss: 1.4201 - val_accuracy: 0.7898\n",
      "Epoch 20/20\n",
      "281/281 [==============================] - 2s 6ms/step - loss: 0.0813 - accuracy: 0.9548 - val_loss: 1.4407 - val_accuracy: 0.7890\n"
     ]
    }
   ],
   "source": [
    "model = tuner.hypermodel.build(best_hps)\n",
    "\n",
    "history = model.fit(\n",
    "    X_train,\n",
    "    Y_train,\n",
    "    epochs = 20,\n",
    "    validation_data = (X_val, Y_val)\n",
    ")"
   ]
  },
  {
   "cell_type": "code",
   "execution_count": 21,
   "metadata": {},
   "outputs": [
    {
     "data": {
      "image/png": "[encoded data removed]",
      "text/plain": [
       "<Figure size 720x432 with 1 Axes>"
      ]
     },
     "metadata": {
      "needs_background": "light"
     },
     "output_type": "display_data"
    }
   ],
   "source": [
    "import pandas as pd\n",
    "import matplotlib.pyplot as plt\n",
    "\n",
    "pd.DataFrame(history.history)[['loss', 'val_loss']].plot(figsize=(10, 6))\n",
    "plt.grid(True)\n",
    "plt.xlabel(\"epochs\")\n",
    "plt.ylabel(\"loss\")\n",
    "plt.show()"
   ]
  },
  {
   "cell_type": "code",
   "execution_count": 22,
   "metadata": {},
   "outputs": [
    {
     "data": {
      "image/png": "[encoded data removed]",
      "text/plain": [
       "<Figure size 720x432 with 1 Axes>"
      ]
     },
     "metadata": {
      "needs_background": "light"
     },
     "output_type": "display_data"
    }
   ],
   "source": [
    "import pandas as pd\n",
    "import matplotlib.pyplot as plt\n",
    "\n",
    "pd.DataFrame(history.history)[['accuracy', 'val_accuracy']].plot(figsize=(10, 6))\n",
    "plt.grid(True)\n",
    "plt.xlabel(\"epochs\")\n",
    "plt.ylabel(\"accuracy\")\n",
    "plt.show()"
   ]
  },
  {
   "cell_type": "code",
   "execution_count": 23,
   "metadata": {},
   "outputs": [
    {
     "name": "stdout",
     "output_type": "stream",
     "text": [
      "36/36 [==============================] - 0s 1ms/step - loss: 1.3663 - accuracy: 0.7934\n"
     ]
    },
    {
     "data": {
      "text/plain": [
       "[1.3662846088409424, 0.7934104800224304]"
      ]
     },
     "execution_count": 23,
     "metadata": {},
     "output_type": "execute_result"
    }
   ],
   "source": [
    "model.evaluate(X_test, Y_test)"
   ]
  },
  {
   "cell_type": "code",
   "execution_count": 24,
   "metadata": {},
   "outputs": [
    {
     "data": {
      "text/plain": [
       "array([[0., 1., 0., ..., 0., 0., 0.],\n",
       "       [0., 0., 0., ..., 0., 0., 0.],\n",
       "       [0., 1., 0., ..., 0., 0., 0.],\n",
       "       ...,\n",
       "       [0., 0., 0., ..., 0., 0., 0.],\n",
       "       [0., 0., 0., ..., 0., 0., 0.],\n",
       "       [0., 0., 0., ..., 0., 0., 0.]], dtype=float32)"
      ]
     },
     "execution_count": 24,
     "metadata": {},
     "output_type": "execute_result"
    }
   ],
   "source": [
    "model.predict(X_test).round(0)"
   ]
  },
  {
   "cell_type": "markdown",
   "metadata": {},
   "source": [
    "# TP5 - En la siguiente celda de texto comente los resultados obtenidos del experimento"
   ]
  },
  {
   "cell_type": "markdown",
   "metadata": {},
   "source": [
    " Completar aquí\n",
    " "
   ]
  }
 ],
 "metadata": {
  "kernelspec": {
   "display_name": "Python 3",
   "language": "python",
   "name": "python3"
  },
  "language_info": {
   "codemirror_mode": {
    "name": "ipython",
    "version": 3
   },
   "file_extension": ".py",
   "mimetype": "text/x-python",
   "name": "python",
   "nbconvert_exporter": "python",
   "pygments_lexer": "ipython3",
   "version": "3.8.8"
  }
 },
 "nbformat": 4,
 "nbformat_minor": 4
}
